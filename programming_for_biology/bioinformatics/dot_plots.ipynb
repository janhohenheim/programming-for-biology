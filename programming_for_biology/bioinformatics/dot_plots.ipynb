{
 "cells": [
  {
   "cell_type": "code",
   "execution_count": 175,
   "metadata": {},
   "outputs": [],
   "source": [
    "import logging\n",
    "from itertools import product\n",
    "import matplotlib.pyplot as plt\n",
    "\n",
    "\n",
    "def slice_(line, width):\n",
    "    windows = [\n",
    "        (i, line[i : i + width])\n",
    "        for j in range(0, width)\n",
    "        for i in range(j, len(line) - width + 1, width)\n",
    "    ]\n",
    "\n",
    "    dictionary = {}\n",
    "    for i, window in windows:\n",
    "        if window not in dictionary:\n",
    "            dictionary[window] = [i]\n",
    "        else:\n",
    "            dictionary[window].append(i)\n",
    "    return {key: sorted(value) for key, value in dictionary.items()}\n",
    "\n",
    "\n",
    "def match(lhs, rhs, width):\n",
    "    lhs_slice = slice_(lhs, width)\n",
    "    rhs_slice = slice_(rhs, width)\n",
    "    dictionary = {\n",
    "        key: (value, rhs_slice[key])\n",
    "        for key, value in lhs_slice.items()\n",
    "        if key in rhs_slice\n",
    "    }\n",
    "    lhs_common, rhs_common = zip(*dictionary.values())\n",
    "    return match_outer(lhs_common, rhs_common)\n",
    "\n",
    "\n",
    "def match_outer(lhs, rhs):\n",
    "    inner_matches = [match_inner(a, b) for a, b in zip(lhs, rhs)]\n",
    "    lhs_inner, rhs_inner = zip(*inner_matches)\n",
    "    return sum(lhs_inner, []), sum(rhs_inner, [])\n",
    "\n",
    "\n",
    "def match_inner(lhs, rhs):\n",
    "    combinations = product(lhs, rhs)\n",
    "    a, b = zip(*combinations)\n",
    "    return list(a), list(b)\n",
    "\n",
    "\n",
    "def plot(x, y, lablex, labley, width):\n",
    "    fig, ax = plt.subplots()\n",
    "    ax.scatter(x, y)\n",
    "    ax.set_xlabel(lablex)\n",
    "    ax.set_ylabel(labley)\n",
    "    ax.set_title(f\"Dot plot with window size {width}\")\n",
    "    plt.show()\n"
   ]
  },
  {
   "cell_type": "code",
   "execution_count": 176,
   "metadata": {},
   "outputs": [
    {
     "name": "stdout",
     "output_type": "stream",
     "text": [
      "[5, 15, 20, 6, 16, 21, 2, 2, 2, 18, 18, 18, 31, 31, 31, 17, 22, 3, 3, 32, 32, 23, 4, 19]\n",
      "[7, 17, 22, 8, 18, 23, 4, 20, 33, 4, 20, 33, 4, 20, 33, 19, 24, 5, 34, 5, 34, 25, 6, 21]\n"
     ]
    },
    {
     "data": {
      "image/png": "[encoded data removed]",
      "text/plain": [
       "<Figure size 432x288 with 1 Axes>"
      ]
     },
     "metadata": {
      "needs_background": "light"
     },
     "output_type": "display_data"
    },
    {
     "name": "stdout",
     "output_type": "stream",
     "text": [
      "391\n",
      "439\n"
     ]
    }
   ],
   "source": [
    "if __name__ == \"__main__\":\n",
    "    logging.basicConfig(level=logging.INFO)\n",
    "\n",
    "    line1 = \"My care is loss of care, by old care done\"\n",
    "    line2 = \"Your care is gain of care, by new care won\"\n",
    "    width = 5\n",
    "\n",
    "    slice1 = slice_(line1, width)\n",
    "    slice2 = slice_(line2, width)\n",
    "\n",
    "    (x, y) = match(line1, line2, width)\n",
    "    print(x)\n",
    "    print(y)\n",
    "    plot(x, y, line1, line2, width)\n",
    "    print(sum(x))\n",
    "    print(sum(y))\n"
   ]
  }
 ],
 "metadata": {
  "interpreter": {
   "hash": "1c41f0bd6e096fa0164b8fb9c52045565b7f28e243de127a4cbaf6cf0c77a09a"
  },
  "kernelspec": {
   "display_name": "Python 3.9.6 64-bit ('programming-for-biology-NMxt45wN-py3.9': venv)",
   "language": "python",
   "name": "python3"
  },
  "language_info": {
   "codemirror_mode": {
    "name": "ipython",
    "version": 3
   },
   "file_extension": ".py",
   "mimetype": "text/x-python",
   "name": "python",
   "nbconvert_exporter": "python",
   "pygments_lexer": "ipython3",
   "version": "3.9.6"
  },
  "orig_nbformat": 4
 },
 "nbformat": 4,
 "nbformat_minor": 2
}
