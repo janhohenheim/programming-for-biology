{
 "cells": [
  {
   "cell_type": "code",
   "execution_count": 17,
   "source": [
    "from os.path import join, abspath\n",
    "from typing import NamedTuple, List, Dict\n",
    "\n",
    "\n",
    "class FinMeasurements(NamedTuple):\n",
    "    before: Dict[str, Dict[int, float]]\n",
    "    after: Dict[str, Dict[int, float]]\n",
    "\n",
    "\n",
    "def read_file(filename) -> List[str]:\n",
    "    path = join(abspath(\"\"), \"data\", filename)\n",
    "    with open(path, \"r\") as f:\n",
    "        return f.readlines()\n",
    "\n",
    "\n",
    "def read_fin_measurement_file(filename) -> Dict[str, Dict[str, float]]:\n",
    "    lines = read_file(filename)\n",
    "    split_lines = (line.split() for line in lines)\n",
    "    parsed_lines = (\n",
    "        (int(id), ray, float(bifurcation_distance))\n",
    "        for id, ray, bifurcation_distance in split_lines\n",
    "    )\n",
    "    fin_data = {}\n",
    "    for id, ray, get_bifurcation_ratio in parsed_lines:\n",
    "        if ray not in fin_data:\n",
    "            fin_data[ray] = {}\n",
    "        fin_data[ray][id] = float(get_bifurcation_ratio)\n",
    "    return fin_data\n",
    "\n",
    "\n",
    "def read_fin_measurements() -> FinMeasurements:\n",
    "    return FinMeasurements(\n",
    "        before=read_fin_measurement_file(\"bif_before.txt\"),\n",
    "        after=read_fin_measurement_file(\"bif_after.txt\"),\n",
    "    )\n",
    "\n",
    "\n",
    "def get_bifurcation_ratio(measurements: FinMeasurements, ray: str, id: int) -> float:\n",
    "    return measurements.after[ray][id] / measurements.before[ray][id]\n",
    "\n",
    "\n",
    "if __name__ == \"__main__\":\n",
    "    measurements = read_fin_measurements()\n",
    "    ratio = get_bifurcation_ratio(measurements, \"V3\", 5)\n",
    "    print(f\"Bifurcation ratio of fin V3 in fish 5: {ratio:.7}\")\n",
    "    print(f\"Measurements for fin V9 {measurements.before['V9']}\")\n"
   ],
   "outputs": [
    {
     "output_type": "stream",
     "name": "stdout",
     "text": [
      "Bifurcation ratio of fin V3 in fish 5: 1.026599\n",
      "Measurements for fin V9 {2: 3.5355, 3: 4.4647, 4: 3.8693, 5: 3.7002, 6: 3.2775, 7: 3.3995}\n"
     ]
    }
   ],
   "metadata": {}
  }
 ],
 "metadata": {
  "orig_nbformat": 4,
  "language_info": {
   "name": "python",
   "version": "3.9.8",
   "mimetype": "text/x-python",
   "codemirror_mode": {
    "name": "ipython",
    "version": 3
   },
   "pygments_lexer": "ipython3",
   "nbconvert_exporter": "python",
   "file_extension": ".py"
  },
  "kernelspec": {
   "name": "python3",
   "display_name": "Python 3.9.7 64-bit"
  },
  "interpreter": {
   "hash": "aee8b7b246df8f9039afb4144a1f6fd8d2ca17a180786b69acc140d282b71a49"
  }
 },
 "nbformat": 4,
 "nbformat_minor": 2
}