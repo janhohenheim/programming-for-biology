{
 "cells": [
  {
   "cell_type": "code",
   "execution_count": 41,
   "metadata": {},
   "outputs": [
    {
     "name": "stdout",
     "output_type": "stream",
     "text": [
      "Bifurcation ratio of fin V3 in fish 5: 1.026599\n",
      "Measurements for fin V9 {2: 3.5355, 3: 4.4647, 4: 3.8693, 5: 3.7002, 6: 3.2775, 7: 3.3995}\n",
      "Bifurcation distances of ray 5: [3.9636 3.4061 3.8173 4.2177 4.1243 3.5583 3.9698]\n",
      "Bifurcation distances of fish 5: [   nan 3.991  4.66   4.4391 4.1243 3.8745 3.7557 3.3819 3.549  3.7002\n",
      " 3.62   3.7657 3.7621 4.31   4.4215 4.534  4.0351    nan]\n",
      "Bifurcation ratios of fish 5:  [       nan 1.11773991 0.73255365 1.10384988 1.06507771 1.02366757\n",
      " 1.09002316 1.23773618 1.15795999 1.19115183 1.14461326 1.1418063\n",
      " 1.18654475 1.14225058 1.02539862 1.02659903 0.82684444        nan]\n",
      "Mean bifurcation ratios:  [       nan 1.10368618 1.00876337 1.0267927  1.13769024 1.04222358\n",
      " 1.10456726 1.14708892 1.20058587 1.12260149 1.14179802 1.12365215\n",
      " 1.18661252 1.18901731 1.10046648 1.10011188 1.13527321        nan]\n"
     ]
    },
    {
     "name": "stderr",
     "output_type": "stream",
     "text": [
      "/var/folders/ct/56ng5mfn2838m8d5d2bcd9ph0000gn/T/ipykernel_15786/640422468.py:100: RuntimeWarning: Mean of empty slice\n",
      "  means = np.nanmean(ratios, axis=1)\n"
     ]
    },
    {
     "data": {
      "image/png": "[encoded data removed]",
      "text/plain": [
       "<Figure size 432x288 with 1 Axes>"
      ]
     },
     "metadata": {
      "needs_background": "light"
     },
     "output_type": "display_data"
    }
   ],
   "source": [
    "from os.path import join, abspath\n",
    "from typing import NamedTuple, List, Dict\n",
    "import numpy as np\n",
    "import logging\n",
    "import matplotlib.pyplot as plt\n",
    "\n",
    "\n",
    "class FinMeasurements(NamedTuple):\n",
    "    before: Dict[str, Dict[int, float]]\n",
    "    after: Dict[str, Dict[int, float]]\n",
    "\n",
    "\n",
    "def read_file(filename) -> List[str]:\n",
    "    path = join(abspath(\"\"), \"data\", filename)\n",
    "    with open(path, \"r\") as f:\n",
    "        return f.readlines()\n",
    "\n",
    "\n",
    "def read_fin_measurement_file(filename) -> Dict[str, Dict[str, float]]:\n",
    "    lines = read_file(filename)\n",
    "    split_lines = (line.split() for line in lines)\n",
    "    parsed_lines = (\n",
    "        (int(id), ray, float(bifurcation_distance))\n",
    "        for id, ray, bifurcation_distance in split_lines\n",
    "    )\n",
    "    fin_data = {}\n",
    "    for id, ray, bifurcation_distance in parsed_lines:\n",
    "        if ray not in fin_data:\n",
    "            fin_data[ray] = {}\n",
    "        fin_data[ray][id] = bifurcation_distance\n",
    "    return fin_data\n",
    "\n",
    "\n",
    "def read_fin_measurements() -> FinMeasurements:\n",
    "    return FinMeasurements(\n",
    "        before=read_fin_measurement_file(\"bif_before.txt\"),\n",
    "        after=read_fin_measurement_file(\"bif_after.txt\"),\n",
    "    )\n",
    "\n",
    "\n",
    "def get_bifurcation_ratio(measurements: FinMeasurements, ray: str, id: int) -> float:\n",
    "    return measurements.after[ray][id] / measurements.before[ray][id]\n",
    "\n",
    "\n",
    "def get_bifurcation_distances(measurements: Dict[str, Dict[int, float]]) -> np.ndarray:\n",
    "    order_d = [a + str(b) for a, b in zip([\"D\"] * 9, range(1, 10))]\n",
    "    order_v = [a + str(b) for a, b in zip([\"V\"] * 9, range(9, 0, -1))]\n",
    "    order = order_d + order_v\n",
    "    fish_ids = range(1, 8)\n",
    "    return np.array(\n",
    "        [\n",
    "            [\n",
    "                measurements[ray][id] if id in measurements[ray] else np.nan\n",
    "                for id in fish_ids\n",
    "            ]\n",
    "            if ray in measurements\n",
    "            else np.zeros(len(fish_ids)) + np.nan\n",
    "            for ray in order\n",
    "        ]\n",
    "    )\n",
    "\n",
    "\n",
    "def ray_dictionary():\n",
    "    rays = {}\n",
    "    for i in range(9):\n",
    "        s = \"D\" + str(i + 1)\n",
    "        rays[s] = i\n",
    "    for i in range(9):\n",
    "        s = \"V\" + str(9 - i)\n",
    "        rays[s] = i + 9\n",
    "    return rays\n",
    "\n",
    "\n",
    "def plotting(ratios, mean_ratios, ray_names):\n",
    "    plt.figure()\n",
    "    ax = plt.gca()\n",
    "    # plot the bifurcation ratios for all the rays for one fish after the other\n",
    "    for fishindex in range(ratios.shape[0 or 1]):\n",
    "        ax.plot(ratios[:, fishindex], \".\")\n",
    "    ax.plot(mean_ratios, \"k\")\n",
    "    plt.ylim([0, 1.6])\n",
    "    plt.legend(\n",
    "        [\"fish 1\", \"fish 2\", \"fish 3\", \"fish 4\", \"fish 5\", \"fish 6\", \"fish 7\", \"mean\"]\n",
    "    )\n",
    "    plt.title(\"Change in bifurcation distances upon fin regeneration.\")\n",
    "    plt.xlabel(\"Ray\")\n",
    "    plt.ylabel(\"Relative change in bifurcation distance\")\n",
    "    ax.set_xticks(range(len(ray_names)))\n",
    "    ax.set_xticklabels(ray_names)\n",
    "\n",
    "\n",
    "if __name__ == \"__main__\":\n",
    "    logging.basicConfig(format=\"%(levelname)s: %(message)s\", level=logging.INFO)\n",
    "    measurements = read_fin_measurements()\n",
    "    ratio = get_bifurcation_ratio(measurements, \"V3\", 5)\n",
    "    print(f\"Bifurcation ratio of fin V3 in fish 5: {ratio:.7}\")\n",
    "    print(f\"Measurements for fin V9 {measurements.before['V9']}\")\n",
    "    bifurcation_distances = get_bifurcation_distances(measurements.before)\n",
    "    print(f\"Bifurcation distances of ray 5: {bifurcation_distances[4,:]}\")\n",
    "    print(f\"Bifurcation distances of fish 5: {bifurcation_distances[:, 4]}\")\n",
    "\n",
    "    ratios = get_bifurcation_distances(measurements.after) / get_bifurcation_distances(\n",
    "        measurements.before\n",
    "    )\n",
    "    print(\"Bifurcation ratios of fish 5: \", ratios[:, 4])\n",
    "    means = np.nanmean(ratios, axis=1)\n",
    "    print(\"Mean bifurcation ratios: \", means)\n",
    "\n",
    "    plotting(ratios, means, ray_dictionary())\n"
   ]
  }
 ],
 "metadata": {
  "interpreter": {
   "hash": "aee8b7b246df8f9039afb4144a1f6fd8d2ca17a180786b69acc140d282b71a49"
  },
  "kernelspec": {
   "display_name": "Python 3.9.7 64-bit",
   "name": "python3"
  },
  "language_info": {
   "codemirror_mode": {
    "name": "ipython",
    "version": 3
   },
   "file_extension": ".py",
   "mimetype": "text/x-python",
   "name": "python",
   "nbconvert_exporter": "python",
   "pygments_lexer": "ipython3",
   "version": "3.9.6"
  },
  "orig_nbformat": 4
 },
 "nbformat": 4,
 "nbformat_minor": 2
}
